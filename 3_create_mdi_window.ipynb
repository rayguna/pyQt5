{
 "cells": [
  {
   "cell_type": "markdown",
   "id": "febf4240",
   "metadata": {},
   "source": [
    "#### Create an MDI Window\n",
    "\n",
    "A multiple documents interface (MDI) window contains all of its child windows within a single parent window without cluttering the desktop with multiple separate windows. "
   ]
  },
  {
   "cell_type": "markdown",
   "id": "941713e4",
   "metadata": {},
   "source": [
    "Creating an MDI window using PyQt5 Designer (https://www.qt.io/) as follows:\n",
    "\n",
    "A. Create a Main Window\n",
    "- Open PyQt5 Designer and select \"Main Window\" from the list of templates to create a new form.\n",
    "\n",
    "B. Add Qmdi component into the main window\n",
    "- In the Widget Box filter textbox, type qmdi to reveal the MDI Area component.\n",
    "- Drag and drop a \"QMdiArea\" widget from the widget box onto the main window.\n",
    "\n",
    "C. Create a New Window menu\n",
    "- Create a File menu (labeled as File) by double clicking on the QMenuBar on the top left corner of the main window, followed by the actionNew_Window (labeled as New Window).\n",
    "\n",
    "D. Save the form\n",
    "- Save the form as \"mdi_window.ui.\"\n",
    "\n",
    "E. Load the MDI window.\n",
    "- If you haven't, install PyQt5 using the command `pip install PyQt5`.\n",
    "- Load the MDI window by running the following Python code:"
   ]
  },
  {
   "cell_type": "code",
   "execution_count": 1,
   "id": "aa758694",
   "metadata": {},
   "outputs": [
    {
     "ename": "SystemExit",
     "evalue": "0",
     "output_type": "error",
     "traceback": [
      "An exception has occurred, use %tb to see the full traceback.\n",
      "\u001b[1;31mSystemExit\u001b[0m\u001b[1;31m:\u001b[0m 0\n"
     ]
    },
    {
     "name": "stderr",
     "output_type": "stream",
     "text": [
      "C:\\ProgramData\\Anaconda3\\envs\\spectralscan_py37\\lib\\site-packages\\IPython\\core\\interactiveshell.py:3449: UserWarning: To exit: use 'exit', 'quit', or Ctrl-D.\n",
      "  warn(\"To exit: use 'exit', 'quit', or Ctrl-D.\", stacklevel=1)\n"
     ]
    }
   ],
   "source": [
    "import sys\n",
    "from PyQt5 import QtWidgets, uic\n",
    "\n",
    "class MDIWindow(QtWidgets.QMainWindow):\n",
    "    def __init__(self):\n",
    "        super(MDIWindow, self).__init__()\n",
    "        uic.loadUi('mdi_window.ui', self)\n",
    "\n",
    "        # Connect the \"New Window\" action to the create_new_window slot\n",
    "        self.actionNew_Window.triggered.connect(self.create_new_window)\n",
    "\n",
    "    def create_new_window(self):\n",
    "        sub_window = QtWidgets.QMdiSubWindow()\n",
    "        self.mdiArea.addSubWindow(sub_window)\n",
    "        sub_window.show()\n",
    "\n",
    "if __name__ == \"__main__\":\n",
    "    app = QtWidgets.QApplication(sys.argv)\n",
    "    window = MDIWindow()\n",
    "    window.show()\n",
    "    sys.exit(app.exec_())"
   ]
  }
 ],
 "metadata": {
  "kernelspec": {
   "display_name": "spectralscan_py37",
   "language": "python",
   "name": "spectralscan_py37"
  },
  "language_info": {
   "codemirror_mode": {
    "name": "ipython",
    "version": 3
   },
   "file_extension": ".py",
   "mimetype": "text/x-python",
   "name": "python",
   "nbconvert_exporter": "python",
   "pygments_lexer": "ipython3",
   "version": "3.7.10"
  }
 },
 "nbformat": 4,
 "nbformat_minor": 5
}
