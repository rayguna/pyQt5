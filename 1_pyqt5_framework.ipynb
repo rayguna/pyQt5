{
 "cells": [
  {
   "cell_type": "markdown",
   "metadata": {},
   "source": [
    "### pyQt5 Framework \n",
    "\n",
    "1. [Call a ui window](#1) \n",
    "2. [Call a custom dialog window from a main window](#2)\n",
    "3. [Window closing event](#3)"
   ]
  },
  {
   "cell_type": "markdown",
   "metadata": {},
   "source": [
    "***"
   ]
  },
  {
   "cell_type": "markdown",
   "metadata": {},
   "source": [
    "#### 1. Call ui window<a id=\"1\"></a>"
   ]
  },
  {
   "cell_type": "code",
   "execution_count": null,
   "metadata": {},
   "outputs": [],
   "source": [
    "from PyQt5 import QtWidgets, uic\n",
    "import sys\n",
    "\n",
    "class Ui(QtWidgets.QMainWindow):\n",
    "    \"\"\"Run a pyQt window from a .ui file.\n",
    "    \"\"\"\n",
    "    def __init__(self):\n",
    "        super(Ui, self).__init__()\n",
    "        \n",
    "        uic.loadUi('hello_1.ui', self)\n",
    "        self.btnSayHello.clicked.connect(self.say_hello)\n",
    "        \n",
    "        self.show()\n",
    "    \n",
    "    def say_hello(self):\n",
    "        \"\"\"Display 'Hello World!' in lblMessage\n",
    "        \"\"\"\n",
    "        if self.btnSayHello.text()==\"Say Hello\":\n",
    "            self.btnSayHello.setText(\"Reset\")\n",
    "            self.lblMessage.setText(\"Hello World!\")\n",
    "        else:\n",
    "            self.btnSayHello.setText(\"Say Hello\")\n",
    "            self.lblMessage.setText(\"Say Something...\")\n",
    "\n",
    "if __name__==\"__main__\": \n",
    "    app = QtWidgets.QApplication(sys.argv)\n",
    "    window = Ui()\n",
    "    app.exec_()"
   ]
  },
  {
   "cell_type": "markdown",
   "metadata": {},
   "source": [
    "#### 2. Call a custom dialog window from a main window<a id=\"2\"></a>"
   ]
  },
  {
   "cell_type": "code",
   "execution_count": 1,
   "metadata": {},
   "outputs": [],
   "source": [
    "from PyQt5 import QtWidgets, uic\n",
    "import sys\n",
    "\n",
    "\n",
    "class CustomDialogWindow(QtWidgets.QDialog):\n",
    "    \"\"\"Make a custom dialog window.\n",
    "    \"\"\"\n",
    "    def __init__(self):\n",
    "        super(CustomDialogWindow, self).__init__()\n",
    "        \n",
    "        uic.loadUi('customdialogwindow.ui', self)\n",
    "        \n",
    "        self.show()\n",
    "\n",
    "\n",
    "class Ui(QtWidgets.QMainWindow):\n",
    "    \"\"\"Run a pyQt window from a .ui file.\n",
    "    \"\"\"\n",
    "    def __init__(self):\n",
    "        super(Ui, self).__init__()\n",
    "        \n",
    "        uic.loadUi('hello_2.ui', self)\n",
    "        \n",
    "        #connect widgets\n",
    "        self.btnSayHello.clicked.connect(self.say_hello)\n",
    "        self.mnCustomDialogWindow.triggered.connect(self.call_custom_dialog_window)\n",
    "        \n",
    "        self.show()\n",
    "    \n",
    "    def say_hello(self):\n",
    "        \"\"\"Display 'Hello World!' in lblMessage\n",
    "        \"\"\"\n",
    "        if self.btnSayHello.text()==\"Say Hello\":\n",
    "            self.btnSayHello.setText(\"Reset\")\n",
    "            self.lblMessage.setText(\"Hello World!\")\n",
    "        else:\n",
    "            self.btnSayHello.setText(\"Say Hello\")\n",
    "            self.lblMessage.setText(\"Say Something...\")\n",
    "            \n",
    "    def call_custom_dialog_window(self):\n",
    "        \"\"\"Display a .ui dialog window \n",
    "        \"\"\"\n",
    "        dlg = CustomDialogWindow()\n",
    "        \n",
    "        if dlg.exec():\n",
    "            print(\"OK button was pressed.\")\n",
    "        else:\n",
    "            print(\"Cancel button was pressed.\")\n",
    "        \n",
    "\n",
    "if __name__==\"__main__\": \n",
    "    app = QtWidgets.QApplication(sys.argv)\n",
    "    window = Ui()\n",
    "    \n",
    "    app.exec_()"
   ]
  },
  {
   "cell_type": "markdown",
   "metadata": {},
   "source": [
    "#### 3. Window closing event<a id=\"3\"></a>"
   ]
  },
  {
   "cell_type": "code",
   "execution_count": 1,
   "metadata": {},
   "outputs": [
    {
     "name": "stdout",
     "output_type": "stream",
     "text": [
      "Window remains open.\n",
      "Window closed.\n"
     ]
    }
   ],
   "source": [
    "from PyQt5 import QtWidgets, uic\n",
    "import sys\n",
    "\n",
    "\n",
    "class CustomDialogWindow(QtWidgets.QDialog):\n",
    "    \"\"\"Make a custom dialog window.\n",
    "    \"\"\"\n",
    "    def __init__(self):\n",
    "        super(CustomDialogWindow, self).__init__()\n",
    "        \n",
    "        uic.loadUi('customdialogwindow.ui', self)\n",
    "        \n",
    "        self.show()\n",
    "\n",
    "\n",
    "class Ui(QtWidgets.QMainWindow):\n",
    "    \"\"\"Run a pyQt window from a .ui file.\n",
    "    \"\"\"\n",
    "    def __init__(self):\n",
    "        super(Ui, self).__init__()\n",
    "        \n",
    "        uic.loadUi('hello_2.ui', self)\n",
    "        \n",
    "        #connect widgets\n",
    "        self.btnSayHello.clicked.connect(self.say_hello)\n",
    "        self.mnCustomDialogWindow.triggered.connect(self.call_custom_dialog_window)\n",
    "        \n",
    "        self.show()\n",
    "    \n",
    "    def say_hello(self):\n",
    "        \"\"\"Display 'Hello World!' in lblMessage\n",
    "        \"\"\"\n",
    "        if self.btnSayHello.text()==\"Say Hello\":\n",
    "            self.btnSayHello.setText(\"Reset\")\n",
    "            self.lblMessage.setText(\"Hello World!\")\n",
    "        else:\n",
    "            self.btnSayHello.setText(\"Say Hello\")\n",
    "            self.lblMessage.setText(\"Say Something...\")\n",
    "            \n",
    "    def call_custom_dialog_window(self):\n",
    "        \"\"\"Display a .ui dialog window \n",
    "        \"\"\"\n",
    "        dlg = CustomDialogWindow()\n",
    "        \n",
    "        if dlg.exec():\n",
    "            print(\"OK button was pressed.\")\n",
    "        else:\n",
    "            print(\"Cancel button was pressed.\")\n",
    "            \n",
    "    def closeEvent(self, event):\n",
    "        reply = QtWidgets.QMessageBox.question(self, 'Close Window', 'Click Yes to quit and click No to stay?',\n",
    "                QtWidgets.QMessageBox.Yes | QtWidgets.QMessageBox.No, QtWidgets.QMessageBox.No)\n",
    "\n",
    "        if reply == QtWidgets.QMessageBox.Yes:\n",
    "            event.accept()\n",
    "            print('Window closed.')\n",
    "        else:\n",
    "            event.ignore()\n",
    "            print('Window remains open.')\n",
    "\n",
    "if __name__==\"__main__\": \n",
    "    app = QtWidgets.QApplication(sys.argv)\n",
    "    window = Ui()\n",
    "    \n",
    "    app.exec_()"
   ]
  }
 ],
 "metadata": {
  "kernelspec": {
   "display_name": "pyqt_py38",
   "language": "python",
   "name": "pyqt_py38"
  },
  "language_info": {
   "codemirror_mode": {
    "name": "ipython",
    "version": 3
   },
   "file_extension": ".py",
   "mimetype": "text/x-python",
   "name": "python",
   "nbconvert_exporter": "python",
   "pygments_lexer": "ipython3",
   "version": "3.8.13"
  }
 },
 "nbformat": 4,
 "nbformat_minor": 5
}
