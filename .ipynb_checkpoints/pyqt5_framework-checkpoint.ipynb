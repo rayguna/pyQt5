{
 "cells": [
  {
   "cell_type": "markdown",
   "id": "57698557",
   "metadata": {},
   "source": [
    "### pyQt5 Framework \n",
    "\n",
    "1. [Call a ui window](#1) "
   ]
  },
  {
   "cell_type": "markdown",
   "id": "fa2749f0",
   "metadata": {},
   "source": [
    "***"
   ]
  },
  {
   "cell_type": "markdown",
   "id": "ed3b0758",
   "metadata": {},
   "source": [
    "#### 1. Call ui window<a id=\"1\"></a>"
   ]
  },
  {
   "cell_type": "code",
   "execution_count": 1,
   "id": "0f7a4746",
   "metadata": {},
   "outputs": [],
   "source": [
    "from PyQt5 import QtWidgets, uic\n",
    "import sys\n",
    "\n",
    "class Ui(QtWidgets.QMainWindow):\n",
    "    \"\"\"Run a pyQt window from a .ui file.\n",
    "    \"\"\"\n",
    "    def __init__(self):\n",
    "        super(Ui, self).__init__()\n",
    "        \n",
    "        uic.loadUi('hello.ui', self)\n",
    "        self.btnSayHello.clicked.connect(self.say_hello)\n",
    "        \n",
    "        self.show()\n",
    "    \n",
    "    def say_hello(self):\n",
    "        \"\"\"Display 'Hello World!' in lblMessage\n",
    "        \"\"\"\n",
    "        if self.btnSayHello.text()==\"Say Hello\":\n",
    "            self.btnSayHello.setText(\"Reset\")\n",
    "            self.lblMessage.setText(\"Hello World!\")\n",
    "        else:\n",
    "            self.btnSayHello.setText(\"Say Hello\")\n",
    "            self.lblMessage.setText(\"Say Something...\")\n",
    "\n",
    "if __name__==\"__main__\": \n",
    "    app = QtWidgets.QApplication(sys.argv)\n",
    "    window = Ui()\n",
    "    app.exec_()"
   ]
  }
 ],
 "metadata": {
  "kernelspec": {
   "display_name": "pyqt_py38",
   "language": "python",
   "name": "pyqt_py38"
  },
  "language_info": {
   "codemirror_mode": {
    "name": "ipython",
    "version": 3
   },
   "file_extension": ".py",
   "mimetype": "text/x-python",
   "name": "python",
   "nbconvert_exporter": "python",
   "pygments_lexer": "ipython3",
   "version": "3.8.13"
  }
 },
 "nbformat": 4,
 "nbformat_minor": 5
}
